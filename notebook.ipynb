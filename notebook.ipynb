{
 "cells": [
  {
   "cell_type": "code",
   "execution_count": 2,
   "id": "35148a16",
   "metadata": {},
   "outputs": [
    {
     "name": "stdout",
     "output_type": "stream",
     "text": [
      "Hello, world!\n"
     ]
    }
   ],
   "source": [
    "print(\"Hello, world!\")"
   ]
  },
  {
   "cell_type": "markdown",
   "id": "3e48da04",
   "metadata": {},
   "source": [
    "# OOP\n",
    "\n",
    " - Ingredient: tuple with the name of the ingredient & the quantity that I have.\n",
    " - \"Inventory\": a list of ingredients."
   ]
  },
  {
   "cell_type": "code",
   "execution_count": 6,
   "id": "438fc27b",
   "metadata": {},
   "outputs": [],
   "source": [
    "rice = (\"rice\", 1)  # 1 kg"
   ]
  },
  {
   "cell_type": "code",
   "execution_count": 7,
   "id": "c7c0a210",
   "metadata": {},
   "outputs": [],
   "source": [
    "milk = (\"milk\", 3)  # 3 Lt"
   ]
  },
  {
   "cell_type": "code",
   "execution_count": 8,
   "id": "9120609c",
   "metadata": {},
   "outputs": [],
   "source": [
    "pantry = [\n",
    "    rice,\n",
    "    milk,\n",
    "    (\"chocolate\", 1),\n",
    "]"
   ]
  },
  {
   "cell_type": "markdown",
   "id": "0d35337d",
   "metadata": {},
   "source": [
    "How can I check if I have enough of an ingredient (to cook something)?"
   ]
  },
  {
   "cell_type": "code",
   "execution_count": null,
   "id": "044ecec5",
   "metadata": {},
   "outputs": [],
   "source": [
    "def has_enough(inventory, ingredient):\n",
    "    ..."
   ]
  }
 ],
 "metadata": {
  "kernelspec": {
   "display_name": "Python 3 (ipykernel)",
   "language": "python",
   "name": "python3"
  },
  "language_info": {
   "codemirror_mode": {
    "name": "ipython",
    "version": 3
   },
   "file_extension": ".py",
   "mimetype": "text/x-python",
   "name": "python",
   "nbconvert_exporter": "python",
   "pygments_lexer": "ipython3",
   "version": "3.9.7"
  },
  "toc": {
   "base_numbering": 1,
   "nav_menu": {},
   "number_sections": false,
   "sideBar": true,
   "skip_h1_title": true,
   "title_cell": "Table of Contents",
   "title_sidebar": "Contents",
   "toc_cell": false,
   "toc_position": {},
   "toc_section_display": true,
   "toc_window_display": false
  }
 },
 "nbformat": 4,
 "nbformat_minor": 5
}
