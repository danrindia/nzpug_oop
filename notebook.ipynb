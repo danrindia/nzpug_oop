{
 "cells": [
  {
   "cell_type": "code",
   "execution_count": 2,
   "id": "35148a16",
   "metadata": {},
   "outputs": [
    {
     "name": "stdout",
     "output_type": "stream",
     "text": [
      "Hello, world!\n"
     ]
    }
   ],
   "source": [
    "print(\"Hello, world!\")"
   ]
  },
  {
   "cell_type": "markdown",
   "id": "fe5174b8",
   "metadata": {},
   "source": [
    "# OOP\n",
    "\n",
    " - Ingredient: tuple with the name of the ingredient & the quantity that I have.\n",
    " - \"Inventory\": a list of ingredients."
   ]
  },
  {
   "cell_type": "code",
   "execution_count": 6,
   "id": "5aa2113d",
   "metadata": {},
   "outputs": [],
   "source": [
    "rice = (\"rice\", 1)  # 1 kg"
   ]
  },
  {
   "cell_type": "code",
   "execution_count": 7,
   "id": "87e84193",
   "metadata": {},
   "outputs": [],
   "source": [
    "milk = (\"milk\", 3)  # 3 Lt"
   ]
  },
  {
   "cell_type": "code",
   "execution_count": 8,
   "id": "636c0d0a",
   "metadata": {},
   "outputs": [],
   "source": [
    "pantry = [\n",
    "    rice,\n",
    "    milk,\n",
    "    (\"chocolate\", 1),\n",
    "]"
   ]
  },
  {
   "cell_type": "markdown",
   "id": "0d4c8c27",
   "metadata": {},
   "source": [
    "How can I check if I have enough of an ingredient (to cook something)?"
   ]
  },
  {
   "cell_type": "code",
   "execution_count": 14,
   "id": "7f36e690",
   "metadata": {},
   "outputs": [],
   "source": [
    "def has_enough(inventory, ingredient):\n",
    "    name, qty = ingredient\n",
    "    for owned_ingredient in inventory:\n",
    "        owned_name, owned_qty = owned_ingredient\n",
    "        if owned_name == name:\n",
    "            return qty <= owned_qty\n",
    "    return False"
   ]
  },
  {
   "cell_type": "code",
   "execution_count": 15,
   "id": "257c526f",
   "metadata": {},
   "outputs": [
    {
     "name": "stdout",
     "output_type": "stream",
     "text": [
      "False\n"
     ]
    }
   ],
   "source": [
    "print(has_enough([], rice))"
   ]
  },
  {
   "cell_type": "code",
   "execution_count": 16,
   "id": "e80b1c73",
   "metadata": {},
   "outputs": [
    {
     "name": "stdout",
     "output_type": "stream",
     "text": [
      "True\n"
     ]
    }
   ],
   "source": [
    "print(has_enough(pantry, rice))"
   ]
  },
  {
   "cell_type": "code",
   "execution_count": 17,
   "id": "80561a68",
   "metadata": {},
   "outputs": [
    {
     "name": "stdout",
     "output_type": "stream",
     "text": [
      "False\n"
     ]
    }
   ],
   "source": [
    "print(has_enough(pantry, (\"rice\", 2)))"
   ]
  },
  {
   "cell_type": "markdown",
   "id": "493d668c",
   "metadata": {},
   "source": [
    "# Everything in Python is an object.\n",
    "\n",
    "Each object is defined by **3** properties:\n",
    "\n",
    " - unique identifier (like SSN for people);\n",
    " - type of the object (the functionality that the object has available);\n",
    " - the contents of the object;"
   ]
  },
  {
   "cell_type": "code",
   "execution_count": 18,
   "id": "1b2fd162",
   "metadata": {},
   "outputs": [
    {
     "data": {
      "text/plain": [
       "1542768829888"
      ]
     },
     "execution_count": 18,
     "metadata": {},
     "output_type": "execute_result"
    }
   ],
   "source": [
    "id(rice)"
   ]
  },
  {
   "cell_type": "code",
   "execution_count": 19,
   "id": "6aa0485e",
   "metadata": {},
   "outputs": [
    {
     "data": {
      "text/plain": [
       "True"
      ]
     },
     "execution_count": 19,
     "metadata": {},
     "output_type": "execute_result"
    }
   ],
   "source": [
    "id(milk) != id(rice)"
   ]
  },
  {
   "cell_type": "code",
   "execution_count": 20,
   "id": "01c47153",
   "metadata": {},
   "outputs": [
    {
     "data": {
      "text/plain": [
       "tuple"
      ]
     },
     "execution_count": 20,
     "metadata": {},
     "output_type": "execute_result"
    }
   ],
   "source": [
    "type(rice)"
   ]
  },
  {
   "cell_type": "code",
   "execution_count": 22,
   "id": "ca59ac59",
   "metadata": {},
   "outputs": [
    {
     "data": {
      "text/plain": [
       "0"
      ]
     },
     "execution_count": 22,
     "metadata": {},
     "output_type": "execute_result"
    }
   ],
   "source": [
    "rice.count(\"bananas\")"
   ]
  },
  {
   "cell_type": "code",
   "execution_count": 21,
   "id": "a4aa1840",
   "metadata": {},
   "outputs": [
    {
     "data": {
      "text/plain": [
       "['__add__',\n",
       " '__class__',\n",
       " '__class_getitem__',\n",
       " '__contains__',\n",
       " '__delattr__',\n",
       " '__dir__',\n",
       " '__doc__',\n",
       " '__eq__',\n",
       " '__format__',\n",
       " '__ge__',\n",
       " '__getattribute__',\n",
       " '__getitem__',\n",
       " '__getnewargs__',\n",
       " '__gt__',\n",
       " '__hash__',\n",
       " '__init__',\n",
       " '__init_subclass__',\n",
       " '__iter__',\n",
       " '__le__',\n",
       " '__len__',\n",
       " '__lt__',\n",
       " '__mul__',\n",
       " '__ne__',\n",
       " '__new__',\n",
       " '__reduce__',\n",
       " '__reduce_ex__',\n",
       " '__repr__',\n",
       " '__rmul__',\n",
       " '__setattr__',\n",
       " '__sizeof__',\n",
       " '__str__',\n",
       " '__subclasshook__',\n",
       " 'count',\n",
       " 'index']"
      ]
     },
     "execution_count": 21,
     "metadata": {},
     "output_type": "execute_result"
    }
   ],
   "source": [
    "dir(rice)  # check methods of an object"
   ]
  },
  {
   "cell_type": "code",
   "execution_count": null,
   "id": "9709602a",
   "metadata": {},
   "outputs": [],
   "source": []
  }
 ],
 "metadata": {
  "kernelspec": {
   "display_name": "Python 3 (ipykernel)",
   "language": "python",
   "name": "python3"
  },
  "language_info": {
   "codemirror_mode": {
    "name": "ipython",
    "version": 3
   },
   "file_extension": ".py",
   "mimetype": "text/x-python",
   "name": "python",
   "nbconvert_exporter": "python",
   "pygments_lexer": "ipython3",
   "version": "3.9.7"
  },
  "toc": {
   "base_numbering": 1,
   "nav_menu": {},
   "number_sections": false,
   "sideBar": true,
   "skip_h1_title": true,
   "title_cell": "Table of Contents",
   "title_sidebar": "Contents",
   "toc_cell": false,
   "toc_position": {},
   "toc_section_display": true,
   "toc_window_display": false
  }
 },
 "nbformat": 4,
 "nbformat_minor": 5
}
