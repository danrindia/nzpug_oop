{
 "cells": [
  {
   "cell_type": "code",
   "execution_count": 2,
   "id": "35148a16",
   "metadata": {},
   "outputs": [
    {
     "name": "stdout",
     "output_type": "stream",
     "text": [
      "Hello, world!\n"
     ]
    }
   ],
   "source": [
    "print(\"Hello, world!\")"
   ]
  },
  {
   "cell_type": "markdown",
   "id": "104d4c44",
   "metadata": {},
   "source": [
    "# OOP\n",
    "\n",
    " - Ingredient: tuple with the name of the ingredient & the quantity that I have."
   ]
  },
  {
   "cell_type": "code",
   "execution_count": 6,
   "id": "8261ed18",
   "metadata": {},
   "outputs": [],
   "source": [
    "rice = (\"rice\", 1)  # 1 kg"
   ]
  },
  {
   "cell_type": "code",
   "execution_count": 7,
   "id": "a6b4f5b2",
   "metadata": {},
   "outputs": [],
   "source": [
    "milk = (\"milk\", 3)  # 3 Lt"
   ]
  },
  {
   "cell_type": "code",
   "execution_count": 8,
   "id": "bf63569f",
   "metadata": {},
   "outputs": [],
   "source": [
    "pantry = [\n",
    "    rice,\n",
    "    milk,\n",
    "    (\"chocolate\", 1),\n",
    "]"
   ]
  },
  {
   "cell_type": "code",
   "execution_count": null,
   "id": "5563ae48",
   "metadata": {},
   "outputs": [],
   "source": []
  }
 ],
 "metadata": {
  "kernelspec": {
   "display_name": "Python 3 (ipykernel)",
   "language": "python",
   "name": "python3"
  },
  "language_info": {
   "codemirror_mode": {
    "name": "ipython",
    "version": 3
   },
   "file_extension": ".py",
   "mimetype": "text/x-python",
   "name": "python",
   "nbconvert_exporter": "python",
   "pygments_lexer": "ipython3",
   "version": "3.9.7"
  },
  "toc": {
   "base_numbering": 1,
   "nav_menu": {},
   "number_sections": false,
   "sideBar": true,
   "skip_h1_title": true,
   "title_cell": "Table of Contents",
   "title_sidebar": "Contents",
   "toc_cell": false,
   "toc_position": {},
   "toc_section_display": true,
   "toc_window_display": false
  }
 },
 "nbformat": 4,
 "nbformat_minor": 5
}
