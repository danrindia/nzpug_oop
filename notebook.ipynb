{
 "cells": [
  {
   "cell_type": "code",
   "execution_count": 2,
   "id": "35148a16",
   "metadata": {},
   "outputs": [
    {
     "name": "stdout",
     "output_type": "stream",
     "text": [
      "Hello, world!\n"
     ]
    }
   ],
   "source": [
    "print(\"Hello, world!\")"
   ]
  },
  {
   "cell_type": "markdown",
   "id": "97f8e303",
   "metadata": {},
   "source": [
    "# OOP\n",
    "\n",
    " - Ingredient: tuple with the name of the ingredient & the quantity that I have.\n",
    " - \"Inventory\": a list of ingredients."
   ]
  },
  {
   "cell_type": "code",
   "execution_count": 6,
   "id": "7aecdf75",
   "metadata": {},
   "outputs": [],
   "source": [
    "rice = (\"rice\", 1)  # 1 kg"
   ]
  },
  {
   "cell_type": "code",
   "execution_count": 7,
   "id": "e8289f4f",
   "metadata": {},
   "outputs": [],
   "source": [
    "milk = (\"milk\", 3)  # 3 Lt"
   ]
  },
  {
   "cell_type": "code",
   "execution_count": 8,
   "id": "d23d0873",
   "metadata": {},
   "outputs": [],
   "source": [
    "pantry = [\n",
    "    rice,\n",
    "    milk,\n",
    "    (\"chocolate\", 1),\n",
    "]"
   ]
  },
  {
   "cell_type": "markdown",
   "id": "5606585d",
   "metadata": {},
   "source": [
    "How can I check if I have enough of an ingredient (to cook something)?"
   ]
  },
  {
   "cell_type": "code",
   "execution_count": 14,
   "id": "4adebbac",
   "metadata": {},
   "outputs": [],
   "source": [
    "def has_enough(inventory, ingredient):\n",
    "    name, qty = ingredient\n",
    "    for owned_ingredient in inventory:\n",
    "        owned_name, owned_qty = owned_ingredient\n",
    "        if owned_name == name:\n",
    "            return qty <= owned_qty\n",
    "    return False"
   ]
  },
  {
   "cell_type": "code",
   "execution_count": 15,
   "id": "ccd02556",
   "metadata": {},
   "outputs": [
    {
     "name": "stdout",
     "output_type": "stream",
     "text": [
      "False\n"
     ]
    }
   ],
   "source": [
    "print(has_enough([], rice))"
   ]
  },
  {
   "cell_type": "code",
   "execution_count": 16,
   "id": "5f6a1078",
   "metadata": {},
   "outputs": [
    {
     "name": "stdout",
     "output_type": "stream",
     "text": [
      "True\n"
     ]
    }
   ],
   "source": [
    "print(has_enough(pantry, rice))"
   ]
  },
  {
   "cell_type": "code",
   "execution_count": 17,
   "id": "ea8443fb",
   "metadata": {},
   "outputs": [
    {
     "name": "stdout",
     "output_type": "stream",
     "text": [
      "False\n"
     ]
    }
   ],
   "source": [
    "print(has_enough(pantry, (\"rice\", 2)))"
   ]
  },
  {
   "cell_type": "markdown",
   "id": "1030f7bc",
   "metadata": {},
   "source": [
    "# Everything in Python is an object.\n",
    "\n",
    "Each object is defined by **3** properties:\n",
    "\n",
    " - unique identifier (like SSN for people);\n",
    " - type of the object (the functionality that the object has available);\n",
    " - the contents of the object;"
   ]
  },
  {
   "cell_type": "code",
   "execution_count": 18,
   "id": "f2b3b0fe",
   "metadata": {},
   "outputs": [
    {
     "data": {
      "text/plain": [
       "1542768829888"
      ]
     },
     "execution_count": 18,
     "metadata": {},
     "output_type": "execute_result"
    }
   ],
   "source": [
    "id(rice)"
   ]
  },
  {
   "cell_type": "code",
   "execution_count": 19,
   "id": "32a16710",
   "metadata": {},
   "outputs": [
    {
     "data": {
      "text/plain": [
       "True"
      ]
     },
     "execution_count": 19,
     "metadata": {},
     "output_type": "execute_result"
    }
   ],
   "source": [
    "id(milk) != id(rice)"
   ]
  },
  {
   "cell_type": "code",
   "execution_count": 20,
   "id": "75b89e38",
   "metadata": {},
   "outputs": [
    {
     "data": {
      "text/plain": [
       "tuple"
      ]
     },
     "execution_count": 20,
     "metadata": {},
     "output_type": "execute_result"
    }
   ],
   "source": [
    "type(rice)"
   ]
  },
  {
   "cell_type": "code",
   "execution_count": null,
   "id": "139cf0bd",
   "metadata": {},
   "outputs": [],
   "source": []
  }
 ],
 "metadata": {
  "kernelspec": {
   "display_name": "Python 3 (ipykernel)",
   "language": "python",
   "name": "python3"
  },
  "language_info": {
   "codemirror_mode": {
    "name": "ipython",
    "version": 3
   },
   "file_extension": ".py",
   "mimetype": "text/x-python",
   "name": "python",
   "nbconvert_exporter": "python",
   "pygments_lexer": "ipython3",
   "version": "3.9.7"
  },
  "toc": {
   "base_numbering": 1,
   "nav_menu": {},
   "number_sections": false,
   "sideBar": true,
   "skip_h1_title": true,
   "title_cell": "Table of Contents",
   "title_sidebar": "Contents",
   "toc_cell": false,
   "toc_position": {},
   "toc_section_display": true,
   "toc_window_display": false
  }
 },
 "nbformat": 4,
 "nbformat_minor": 5
}
